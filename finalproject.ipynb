
Pipline script to cypher and decypher protected documents sent from a receiver to it's intended user

{
 "cells": [
  {
   "cell_type": "code",
   "execution_count": 51,
   "metadata": {},
   "outputs": [
    {
     "data": {
      "text/plain": [
       "'a0699bb21389615336dfdd240d1b252413d30a96a6cdd5425cdc9183c87e5f15'"
      ]
     },
     "execution_count": 51,
     "metadata": {},
     "output_type": "execute_result"
    }
   ],
   "source": [
    "# Applying SHA-256 hash function on data file to generate data digests\n",
    "from Crypto.Hash import SHA256\n",
    "\n",
    "input_file = b'R11503611_data.docx'\n",
    "\n",
    "with open(input_file, 'rb') as f:\n",
    "    data = f.read()\n",
    "\n",
    "h = SHA256.new(data)\n",
    "h.hexdigest()"
   ]
  },
  {
   "cell_type": "code",
   "execution_count": 52,
   "metadata": {},
   "outputs": [
    {
     "data": {
      "text/plain": [
       "'56a80abb788d816464f79891e4ef3ad2e01ff69c3789fe45c8fccc7e11f7f0af'"
      ]
     },
     "execution_count": 52,
     "metadata": {},
     "output_type": "execute_result"
    }
   ],
   "source": [
    "# Applying BLAKE2s hash function on data file to generate data digests\n",
    "\n",
    "from Crypto.Hash import BLAKE2s\n",
    "\n",
    "input_file = b'R11503611_data.docx'\n",
    "\n",
    "with open(input_file, 'rb') as f:\n",
    "    data = f.read()\n",
    "\n",
    "Hblk = BLAKE2s.new(digest_bits=256)\n",
    "Hblk.update(data)\n",
    "Hblk.hexdigest()"
   ]
  },
  {
   "cell_type": "code",
   "execution_count": 53,
   "metadata": {},
   "outputs": [
    {
     "name": "stdout",
     "output_type": "stream",
     "text": [
      "b'1P.\\x0e\\xfeSB\\xda+\\xb2~\\xe3%\\xcc\\xa7\\x15'\n"
     ]
    }
   ],
   "source": [
    "from Crypto.Cipher import CAST\n",
    "from Crypto import Random\n",
    "\n",
    "output_file = 'R11503611_cast.bin' # Output file\n",
    "input_file = 'R11503611_data.docx'\n",
    "\n",
    "with open(input_file, 'rb') as f:\n",
    "    data = f.read()\n",
    "\n",
    "key = os.urandom(16)\n",
    "\n",
    "file = open('castkey', 'wb')\n",
    "file.write(key) # The key is type bytes still\n",
    "file.close()\n",
    "print(key)\n",
    "\n",
    "iv = Random.new().read(CAST.block_size)\n",
    "cipher = CAST.new(key, CAST.MODE_OPENPGP, iv)\n",
    "plaintext = data\n",
    "msg = cipher.encrypt(plaintext)\n",
    "\n",
    "\n",
    "file_out = open(output_file, \"wb\") # Open file to write bytes\n",
    "#file_out.write(iv) # Write the iv to the output file (will be required for decryption)\n",
    "file_out.write(msg) # Write the varying length ciphertext to the file (this is the encrypted data)\n",
    "file_out.close()\n"
   ]
  },
  {
   "cell_type": "code",
   "execution_count": 54,
   "metadata": {},
   "outputs": [
    {
     "name": "stdout",
     "output_type": "stream",
     "text": [
      "b'1P.\\x0e\\xfeSB\\xda+\\xb2~\\xe3%\\xcc\\xa7\\x15'\n"
     ]
    }
   ],
   "source": [
    "from Crypto.Cipher import CAST\n",
    "from Crypto import Random\n",
    "\n",
    "output_file = 'R11503611_cast_decrypted.docx' # Output file\n",
    "input_file = 'R11503611_cast.bin'\n",
    "\n",
    "with open(input_file, 'rb') as f:\n",
    "    data = f.read()\n",
    "\n",
    "file = open('castkey', 'rb')\n",
    "key = file.read() # The key will be type bytes\n",
    "file.close()\n",
    "\n",
    "#key = b'\\xda\\xe6\\xc0\\xcc\\x83\\xdaC\\x9a4H\\x87W\\xc9\\xe1\\xacN'\n",
    "eiv = data[:CAST.block_size+2]\n",
    "ciphertext = data[CAST.block_size+2:]\n",
    "cipher = CAST.new(key, CAST.MODE_OPENPGP, eiv)\n",
    "document = cipher.decrypt(ciphertext)\n",
    "\n",
    "file_out = open(output_file, \"wb\") # Open file to write bytes\n",
    "#file_out.write(iv) # Write the iv to the output file (will be required for decryption)\n",
    "file_out.write(document) # Write the varying length ciphertext to the file (this is the encrypted data)\n",
    "file_out.close()\n",
    "print(key)"
   ]
  },
  {
   "cell_type": "code",
   "execution_count": 55,
   "metadata": {},
   "outputs": [
    {
     "name": "stdout",
     "output_type": "stream",
     "text": [
      "b'o\\'3\\xb0\\xe6\"\\xaaQ\\xa0\\xfe\\xce,[\\r\\xb6\\xd3'\n"
     ]
    }
   ],
   "source": [
    "# Aes encryption with random key selection\n",
    "\n",
    "from Crypto.Cipher import AES\n",
    "from Crypto.Util.Padding import pad\n",
    "from Crypto.Random import get_random_bytes\n",
    "import os\n",
    "\n",
    "output_file = 'R11503611_aes.bin' # Output file\n",
    "input_file = b'R11503611_data.docx'\n",
    "\n",
    "with open(input_file, 'rb') as f:\n",
    "    data = f.read()\n",
    "\n",
    "key = get_random_bytes(16)\n",
    "file = open('key2', 'wb')\n",
    "file.write(key) # The key is type bytes still\n",
    "file.close()\n",
    "print(key)\n",
    "\n",
    "# Create cipher object and encrypt the data\n",
    "cipher = AES.new(key, AES.MODE_CBC) # Create a AES cipher object with the key using the mode CBC\n",
    "ciphered_data = cipher.encrypt(pad(data, AES.block_size)) # Pad the input data and then encrypt\n",
    "\n",
    "file_out = open(output_file, \"wb\") # Open file to write bytes\n",
    "file_out.write(cipher.iv) # Write the iv to the output file (will be required for decryption)\n",
    "file_out.write(ciphered_data) # Write the varying length ciphertext to the file (this is the encrypted data)\n",
    "file_out.close()\n"
   ]
  },
  {
   "cell_type": "code",
   "execution_count": 56,
   "metadata": {},
   "outputs": [
    {
     "name": "stdout",
     "output_type": "stream",
     "text": [
      "b'o\\'3\\xb0\\xe6\"\\xaaQ\\xa0\\xfe\\xce,[\\r\\xb6\\xd3'\n"
     ]
    }
   ],
   "source": [
    "from Crypto.Cipher import AES\n",
    "from Crypto.Util.Padding import unpad\n",
    "\n",
    "output_file = 'R11503611_aes_decrypted.docx'\n",
    "input_file = 'R11503611_aes.bin' # Input file\n",
    "\n",
    "file = open('key2', 'rb')\n",
    "key = file.read() # The key will be type bytes\n",
    "file.close()\n",
    " \n",
    "# Read the data from the file\n",
    "file_in = open(input_file, 'rb') # Open the file to read bytes\n",
    "iv = file_in.read(16) # Read the iv out - this is 16 bytes long\n",
    "ciphered_data = file_in.read() # Read the rest of the data\n",
    "file_in.close()\n",
    "\n",
    "cipher = AES.new(key,AES.MODE_CBC, iv=iv)\n",
    "original_data = unpad(cipher.decrypt(ciphered_data), AES.block_size)\n",
    "file_out = open(output_file, \"wb\") # Open file to write bytes\n",
    "file_out.write(original_data) # Write original data to the file (this is the original data)\n",
    "file_out.close()\n",
    "print(key)"
   ]
  },
  {
   "cell_type": "code",
   "execution_count": 57,
   "metadata": {},
   "outputs": [
    {
     "data": {
      "text/plain": [
       "'a0699bb21389615336dfdd240d1b252413d30a96a6cdd5425cdc9183c87e5f15'"
      ]
     },
     "execution_count": 57,
     "metadata": {},
     "output_type": "execute_result"
    }
   ],
   "source": [
    "#validating integrity\n",
    "from Crypto.Hash import SHA256\n",
    "\n",
    "input_file = b'R11503611_aes_decrypted.docx'\n",
    "\n",
    "with open(input_file, 'rb') as f:\n",
    "    data = f.read()\n",
    "h3 = SHA256.new(data)\n",
    "\n",
    "#h.hexdigest()\n",
    "h3.hexdigest()"
   ]
  },
  {
   "cell_type": "code",
   "execution_count": 58,
   "metadata": {},
   "outputs": [
    {
     "data": {
      "text/plain": [
       "'a0699bb21389615336dfdd240d1b252413d30a96a6cdd5425cdc9183c87e5f15'"
      ]
     },
     "execution_count": 58,
     "metadata": {},
     "output_type": "execute_result"
    }
   ],
   "source": [
    "# Applying SHA-256 hash function on data file to generate data digests\n",
    "from Crypto.Hash import SHA256\n",
    "\n",
    "input_file = b'R11503611_data.docx'\n",
    "\n",
    "with open(input_file, 'rb') as f:\n",
    "    data = f.read()\n",
    "\n",
    "h = SHA256.new(data)\n",
    "h.hexdigest()"
   ]
  },
  {
   "cell_type": "code",
   "execution_count": null,
   "metadata": {},
   "outputs": [],
   "source": []
  }
 ],
 "metadata": {
  "kernelspec": {
   "display_name": "Python 3",
   "language": "python",
   "name": "python3"
  },
  "language_info": {
   "codemirror_mode": {
    "name": "ipython",
    "version": 3
   },
   "file_extension": ".py",
   "mimetype": "text/x-python",
   "name": "python",
   "nbconvert_exporter": "python",
   "pygments_lexer": "ipython3",
   "version": "3.7.3"
  }
 },
 "nbformat": 4,
 "nbformat_minor": 2
}
